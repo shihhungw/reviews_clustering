{
 "cells": [
  {
   "cell_type": "code",
   "execution_count": 20,
   "id": "0e59ffbf-0443-4614-a18a-1681126fb996",
   "metadata": {},
   "outputs": [],
   "source": [
    "import pandas as pd\n",
    "import numpy as np\n",
    "import re\n",
    "from sklearn.cluster import KMeans\n",
    "from yellowbrick.cluster import KElbowVisualizer\n",
    "import math"
   ]
  },
  {
   "cell_type": "markdown",
   "id": "f35a4fec-88cd-497b-8678-ae3722e43ebc",
   "metadata": {},
   "source": [
    "## Read the data (這邊改成你要的APP，可以多個，但效果可能會變差)"
   ]
  },
  {
   "cell_type": "code",
   "execution_count": 146,
   "id": "71e2b4fd-291d-4f24-9258-c9072965dffa",
   "metadata": {},
   "outputs": [
    {
     "data": {
      "text/html": [
       "<div>\n",
       "<style scoped>\n",
       "    .dataframe tbody tr th:only-of-type {\n",
       "        vertical-align: middle;\n",
       "    }\n",
       "\n",
       "    .dataframe tbody tr th {\n",
       "        vertical-align: top;\n",
       "    }\n",
       "\n",
       "    .dataframe thead th {\n",
       "        text-align: right;\n",
       "    }\n",
       "</style>\n",
       "<table border=\"1\" class=\"dataframe\">\n",
       "  <thead>\n",
       "    <tr style=\"text-align: right;\">\n",
       "      <th></th>\n",
       "      <th>reviewId</th>\n",
       "      <th>userName</th>\n",
       "      <th>userImage</th>\n",
       "      <th>content</th>\n",
       "      <th>score</th>\n",
       "      <th>thumbsUpCount</th>\n",
       "      <th>reviewCreatedVersion</th>\n",
       "      <th>at</th>\n",
       "      <th>replyContent</th>\n",
       "      <th>repliedAt</th>\n",
       "    </tr>\n",
       "  </thead>\n",
       "  <tbody>\n",
       "    <tr>\n",
       "      <th>0</th>\n",
       "      <td>gp:AOqpTOGv1sL5Itgbzg1iBMFj6BLoh1ZuFk_75MwNof4...</td>\n",
       "      <td>范彼得</td>\n",
       "      <td>https://play-lh.googleusercontent.com/a-/AOh14...</td>\n",
       "      <td>一般人看見1顆星都可能以為是惡意評價！但我是罪證確鑿的指控蝦皮！ 我向蝦皮授權賣家「喵狗XX...</td>\n",
       "      <td>1</td>\n",
       "      <td>13</td>\n",
       "      <td>2.81.07</td>\n",
       "      <td>2021-12-24 16:33:44</td>\n",
       "      <td>NaN</td>\n",
       "      <td>NaN</td>\n",
       "    </tr>\n",
       "    <tr>\n",
       "      <th>1</th>\n",
       "      <td>gp:AOqpTOEpZii_UQpE2RrYz4fcyLeKFwTMoxySgGhFc9r...</td>\n",
       "      <td>寶妮</td>\n",
       "      <td>https://play-lh.googleusercontent.com/a/AATXAJ...</td>\n",
       "      <td>爛，氣死！海外賣家寄來包裹，app上顯示送達門市（14號）,19號去領只有一包有領到，還向店...</td>\n",
       "      <td>1</td>\n",
       "      <td>4</td>\n",
       "      <td>2.81.07</td>\n",
       "      <td>2021-12-24 18:03:01</td>\n",
       "      <td>NaN</td>\n",
       "      <td>NaN</td>\n",
       "    </tr>\n",
       "    <tr>\n",
       "      <th>2</th>\n",
       "      <td>gp:AOqpTOGuM1Xko8FfrnPcaDcnSxt6drzn-gJ17E8b5lI...</td>\n",
       "      <td>168.888 qin</td>\n",
       "      <td>https://play-lh.googleusercontent.com/a-/AOh14...</td>\n",
       "      <td>超贊的購物網站，公正合理誠信，不過還是有些不足要說來：為什麼把退貨退款有時侯匯入(街頭支付)...</td>\n",
       "      <td>5</td>\n",
       "      <td>3</td>\n",
       "      <td>2.81.07</td>\n",
       "      <td>2021-12-24 09:09:12</td>\n",
       "      <td>NaN</td>\n",
       "      <td>NaN</td>\n",
       "    </tr>\n",
       "    <tr>\n",
       "      <th>3</th>\n",
       "      <td>gp:AOqpTOFmreT5H90IAlbqB_bxW_W_DeJxHrPyFV3WRBL...</td>\n",
       "      <td>許孟慈</td>\n",
       "      <td>https://play-lh.googleusercontent.com/a-/AOh14...</td>\n",
       "      <td>自從膝關節退化無法出門逛街後，我就開始學習網路購物，已經有三年時間，也在很多的購物平台購物，...</td>\n",
       "      <td>5</td>\n",
       "      <td>0</td>\n",
       "      <td>2.81.07</td>\n",
       "      <td>2021-12-24 08:56:41</td>\n",
       "      <td>NaN</td>\n",
       "      <td>NaN</td>\n",
       "    </tr>\n",
       "    <tr>\n",
       "      <th>4</th>\n",
       "      <td>gp:AOqpTOGkd4kAUhZ7fNFD-ZUlcVAp8wvcyhGLnhDtQ8o...</td>\n",
       "      <td>浩克</td>\n",
       "      <td>https://play-lh.googleusercontent.com/a-/AOh14...</td>\n",
       "      <td>賣家稱：瑕疵難免。 買家取消交易，賣家口出惡言。 買家回應賣家：即使出貨，買家拒收，經截圖檢...</td>\n",
       "      <td>1</td>\n",
       "      <td>2</td>\n",
       "      <td>2.81.07</td>\n",
       "      <td>2021-12-24 22:19:58</td>\n",
       "      <td>NaN</td>\n",
       "      <td>NaN</td>\n",
       "    </tr>\n",
       "  </tbody>\n",
       "</table>\n",
       "</div>"
      ],
      "text/plain": [
       "                                            reviewId     userName  \\\n",
       "0  gp:AOqpTOGv1sL5Itgbzg1iBMFj6BLoh1ZuFk_75MwNof4...          范彼得   \n",
       "1  gp:AOqpTOEpZii_UQpE2RrYz4fcyLeKFwTMoxySgGhFc9r...           寶妮   \n",
       "2  gp:AOqpTOGuM1Xko8FfrnPcaDcnSxt6drzn-gJ17E8b5lI...  168.888 qin   \n",
       "3  gp:AOqpTOFmreT5H90IAlbqB_bxW_W_DeJxHrPyFV3WRBL...          許孟慈   \n",
       "4  gp:AOqpTOGkd4kAUhZ7fNFD-ZUlcVAp8wvcyhGLnhDtQ8o...           浩克   \n",
       "\n",
       "                                           userImage  \\\n",
       "0  https://play-lh.googleusercontent.com/a-/AOh14...   \n",
       "1  https://play-lh.googleusercontent.com/a/AATXAJ...   \n",
       "2  https://play-lh.googleusercontent.com/a-/AOh14...   \n",
       "3  https://play-lh.googleusercontent.com/a-/AOh14...   \n",
       "4  https://play-lh.googleusercontent.com/a-/AOh14...   \n",
       "\n",
       "                                             content  score  thumbsUpCount  \\\n",
       "0  一般人看見1顆星都可能以為是惡意評價！但我是罪證確鑿的指控蝦皮！ 我向蝦皮授權賣家「喵狗XX...      1             13   \n",
       "1  爛，氣死！海外賣家寄來包裹，app上顯示送達門市（14號）,19號去領只有一包有領到，還向店...      1              4   \n",
       "2  超贊的購物網站，公正合理誠信，不過還是有些不足要說來：為什麼把退貨退款有時侯匯入(街頭支付)...      5              3   \n",
       "3  自從膝關節退化無法出門逛街後，我就開始學習網路購物，已經有三年時間，也在很多的購物平台購物，...      5              0   \n",
       "4  賣家稱：瑕疵難免。 買家取消交易，賣家口出惡言。 買家回應賣家：即使出貨，買家拒收，經截圖檢...      1              2   \n",
       "\n",
       "  reviewCreatedVersion                   at replyContent repliedAt  \n",
       "0              2.81.07  2021-12-24 16:33:44          NaN       NaN  \n",
       "1              2.81.07  2021-12-24 18:03:01          NaN       NaN  \n",
       "2              2.81.07  2021-12-24 09:09:12          NaN       NaN  \n",
       "3              2.81.07  2021-12-24 08:56:41          NaN       NaN  \n",
       "4              2.81.07  2021-12-24 22:19:58          NaN       NaN  "
      ]
     },
     "execution_count": 146,
     "metadata": {},
     "output_type": "execute_result"
    }
   ],
   "source": [
    "file_names = ['shopee.csv', 'momo.csv', 'PChome.csv']\n",
    "li = []\n",
    "for path in file_names:\n",
    "    df = pd.read_csv(path, index_col=None, header=0)\n",
    "    li.append(df)\n",
    "\n",
    "data_set = pd.concat(li, axis=0, ignore_index=True)\n",
    "data_set.head()"
   ]
  },
  {
   "cell_type": "code",
   "execution_count": 147,
   "id": "dc31541d-3038-4000-9b98-ae1d709eeb07",
   "metadata": {},
   "outputs": [
    {
     "name": "stdout",
     "output_type": "stream",
     "text": [
      "Reviews Count : 69792\n"
     ]
    }
   ],
   "source": [
    "print(\"Reviews Count :\", data_set.shape[0])"
   ]
  },
  {
   "cell_type": "markdown",
   "id": "907d2cc3-fbc4-41c2-a173-8a14beb7e1d5",
   "metadata": {},
   "source": [
    "## Functions"
   ]
  },
  {
   "cell_type": "markdown",
   "id": "0d06e522-e9db-4d23-abde-8a55c9a087c0",
   "metadata": {},
   "source": [
    "#### Preprocessor function\n",
    "consider 2 ~ 6 gram"
   ]
  },
  {
   "cell_type": "code",
   "execution_count": 104,
   "id": "f08793c9-0162-4eaa-a16b-1e2cbf643f11",
   "metadata": {},
   "outputs": [],
   "source": [
    "def preprocess(sent, stopwords):\n",
    "    sent = re.sub(r'[^\\w]', '', sent)\n",
    "    sent = re.sub(r'[A-Za-z0-9]', '', sent)\n",
    "    return_list = [[], [], [], [], []]\n",
    "    for n_gram in range(2, 7):\n",
    "        for i in range(len(sent) - n_gram + 1):\n",
    "            w = sent[i:i+n_gram]\n",
    "            if w not in stopwords:\n",
    "                return_list[n_gram-2].append(w)\n",
    "    return return_list"
   ]
  },
  {
   "cell_type": "code",
   "execution_count": 105,
   "id": "ba808658-8d5e-497a-995d-a2e9da1f764f",
   "metadata": {},
   "outputs": [],
   "source": [
    "stopwords = []\n",
    "with open(\"stopwords.txt\", 'r', encoding = 'utf8') as file:\n",
    "    for data in file.readlines():\n",
    "        data = data.strip()\n",
    "        stopwords.append(data)"
   ]
  },
  {
   "cell_type": "markdown",
   "id": "5d75b500-e1bb-4768-9152-30cd0e02d14f",
   "metadata": {},
   "source": [
    "#### CF, TF and DF function"
   ]
  },
  {
   "cell_type": "code",
   "execution_count": 82,
   "id": "0f402a67-dcb8-4f61-b23b-8fd1cf6c5c99",
   "metadata": {},
   "outputs": [],
   "source": [
    "def CF_TF_DF_creator(n_gram_df, score_range = [1, 5]):\n",
    "    CF_dict = [{}, {}, {}, {}, {}] # to remove rare words\n",
    "    DF_dict = [{}, {}, {}, {}, {}]\n",
    "    for score in range(score_range[0]-1, score_range[1]): # each score\n",
    "        for doc in n_gram_df[score].keys(): # each reviewer\n",
    "            doc_set = set()\n",
    "            for n in range(2, 7): # each gram\n",
    "                for w in n_gram_df[score][doc][n-2]:\n",
    "                    if w not in CF_dict[n-2].keys(): # first occurance in collections\n",
    "                        CF_dict[n-2][w] = 1\n",
    "                        DF_dict[n-2][w] = 1\n",
    "                        doc_set.add(w)\n",
    "                    elif w not in doc_set: # first occurance in documents\n",
    "                        CF_dict[n-2][w] += 1\n",
    "                        DF_dict[n-2][w] += 1\n",
    "                        doc_set.add(w)\n",
    "                    else:\n",
    "                        CF_dict[n-2][w] += 1\n",
    "    print(\"CF and DF complete\")\n",
    "    \n",
    "    # Remove the rare words ( CF < 1 % number of documents)\n",
    "    for n in range(2, 7):\n",
    "        temp = CF_dict[n-2].copy()\n",
    "        min_CF = 0\n",
    "        for score in range(score_range[0]-1, score_range[1]):\n",
    "            min_CF += len(n_gram_df[score].keys())\n",
    "        min_CF *= 0.01\n",
    "        for w in temp.keys():\n",
    "            if temp[w] < min_CF:\n",
    "                del CF_dict[n-2][w]\n",
    "                del DF_dict[n-2][w]\n",
    "    print(\"Remove the rare words\")\n",
    "    \n",
    "    # Remove combined words (use DF)\n",
    "    for n in range(2, 7-1):\n",
    "        temp = DF_dict[n-2].copy()\n",
    "        for n_gram in temp.keys():\n",
    "            for m_gram in DF_dict[n-1].keys(): # m = n+1\n",
    "                if n_gram in m_gram and temp[n_gram] == DF_dict[n-1][m_gram]:\n",
    "                    del CF_dict[n-2][n_gram]\n",
    "                    del DF_dict[n-2][n_gram]\n",
    "                    break\n",
    "        print (n, end='\\r')\n",
    "    print(\"Remove combined words\")\n",
    "    \n",
    "    TF_table = {}\n",
    "    for score in range(score_range[0]-1, score_range[1]): # each score\n",
    "        for doc in n_gram_df[score].keys(): # each reviewer\n",
    "            TF_dict = {}\n",
    "            for n in range(2, 7): # each gram\n",
    "                for w in n_gram_df[score][doc][n-2]:\n",
    "                    if w not in CF_dict[n-2].keys(): # has been removed\n",
    "                        continue\n",
    "                    elif w not in TF_dict: # first occurance in documents\n",
    "                        TF_dict[w] = 1\n",
    "                    else:\n",
    "                        TF_dict[w] += 1\n",
    "            TF_table[doc] = TF_dict\n",
    "    print(\"TF complete\")\n",
    "    \n",
    "    uni_tokens = []\n",
    "    for n in range(2, 7): # each gram\n",
    "        uni_tokens.extend(CF_dict[n-2].keys())\n",
    "    \n",
    "    return {'uni_tokens': uni_tokens, 'CF': CF_dict, 'DF': DF_dict, 'TF': TF_table}"
   ]
  },
  {
   "cell_type": "markdown",
   "id": "54b94aff-d773-4158-a8c9-5d0227cc913d",
   "metadata": {},
   "source": [
    "## Tokenization"
   ]
  },
  {
   "cell_type": "code",
   "execution_count": 148,
   "id": "79562341-e1bd-4c4c-88c6-4c3099482cdf",
   "metadata": {},
   "outputs": [
    {
     "name": "stdout",
     "output_type": "stream",
     "text": [
      "100.0%\r"
     ]
    }
   ],
   "source": [
    "n_gram_df = [{}, {}, {}, {}, {}]\n",
    "for index, val in data_set.iterrows():\n",
    "    if type(val[\"content\"]) != str:\n",
    "        continue\n",
    "    n_gram_df[val['score']-1][index] = preprocess(val['content'], stopwords)\n",
    "    print (str(round(100 * (index + 1) / data_set.shape[0], 2)) + \"%\", end='\\r')"
   ]
  },
  {
   "cell_type": "markdown",
   "id": "b3dcbe92-4713-49d2-81b9-d9149d027131",
   "metadata": {},
   "source": [
    "## 使用CF_TF_DF_creator\n",
    "CF_TF_DF_creator(n_gram_df, [min_score, max_score])，max_score有包含<br>\n",
    "CF_TF_DF_creator吐出一個dict，包含unique_tokens, CF, DF, TF，以下稱CF_TF_DF <br>\n",
    "CF_TF_DF['uni_tokens']是個list，包含所有unique的tokens <br>\n",
    "CF_TF_DF['CF']是個list，CF_TF_DF['CF'][n-2]是n-gram的CF dict <br>\n",
    "CF_TF_DF['DF']是個list，CF_TF_DF['DF'][n-2]是n-gram的DF dict <br>\n",
    "CF_TF_DF['TF']是個dict，CF_TF_DF['TF'][doc_id]是doc_id這個review的TF dict <br>"
   ]
  },
  {
   "cell_type": "code",
   "execution_count": 149,
   "id": "0d3bf48c-ccc0-45a7-866d-131a321911f3",
   "metadata": {},
   "outputs": [
    {
     "name": "stdout",
     "output_type": "stream",
     "text": [
      "CF and DF complete\n",
      "Remove the rare words\n",
      "Remove combined words\n",
      "TF complete\n"
     ]
    }
   ],
   "source": [
    "CF_TF_DF = CF_TF_DF_creator(n_gram_df, [1, 2])"
   ]
  },
  {
   "cell_type": "code",
   "execution_count": 150,
   "id": "2258c30c-22e9-4e2a-8e81-232aa06ef221",
   "metadata": {},
   "outputs": [
    {
     "data": {
      "text/plain": [
       "{'取消訂單': 241,\n",
       " '貨到付款': 266,\n",
       " '一直顯示': 263,\n",
       " '還是一樣': 176,\n",
       " '實名認證': 372,\n",
       " '重新下載': 168,\n",
       " '無法使用': 261,\n",
       " '街口支付': 207,\n",
       " '無法登入': 205,\n",
       " '一直無法': 179,\n",
       " '很卡很卡': 250}"
      ]
     },
     "execution_count": 150,
     "metadata": {},
     "output_type": "execute_result"
    }
   ],
   "source": [
    "CF_TF_DF['CF'][2] # 4-gram 的 CF"
   ]
  },
  {
   "cell_type": "markdown",
   "id": "32fc61ce-138f-4cc9-a267-6c9dcd41d39c",
   "metadata": {},
   "source": [
    "## CF 總排行"
   ]
  },
  {
   "cell_type": "code",
   "execution_count": 151,
   "id": "d899dbfe-83d3-46ca-9fff-d731353896de",
   "metadata": {},
   "outputs": [
    {
     "data": {
      "text/plain": [
       "[('一直', 3485),\n",
       " ('更新', 3401),\n",
       " ('商品', 3377),\n",
       " ('蝦皮', 3274),\n",
       " ('無法', 2982),\n",
       " ('東西', 2788),\n",
       " ('賣家', 2686),\n",
       " ('客服', 2464),\n",
       " ('問題', 2462),\n",
       " ('使用', 2094),\n",
       " ('購物', 1926),\n",
       " ('真的', 1720),\n",
       " ('系統', 1379),\n",
       " ('手機', 1378),\n",
       " ('顯示', 1329),\n",
       " ('訂單', 1291),\n",
       " ('一個', 1279),\n",
       " ('根本', 1256),\n",
       " ('現在', 1238),\n",
       " ('不到', 1134)]"
      ]
     },
     "execution_count": 151,
     "metadata": {},
     "output_type": "execute_result"
    }
   ],
   "source": [
    "cf_rank = []\n",
    "for n in range(2, 7):\n",
    "    for key in CF_TF_DF['CF'][n-2].keys():\n",
    "        cf_rank.append((key, CF_TF_DF['CF'][n-2][key]))\n",
    "cf_rank = sorted(cf_rank, key=lambda x: x[1], reverse=True)\n",
    "cf_rank[:20]"
   ]
  },
  {
   "cell_type": "markdown",
   "id": "1403e2f9-ee5f-4e9d-8a1f-c1ad7ef2b594",
   "metadata": {},
   "source": [
    "## DF 總排行"
   ]
  },
  {
   "cell_type": "code",
   "execution_count": 152,
   "id": "bef0dce4-a094-4345-9288-a7ce8ef12734",
   "metadata": {},
   "outputs": [
    {
     "data": {
      "text/plain": [
       "[('一直', 2952),\n",
       " ('更新', 2602),\n",
       " ('無法', 2495),\n",
       " ('商品', 2443),\n",
       " ('東西', 2285),\n",
       " ('蝦皮', 2263),\n",
       " ('問題', 1867),\n",
       " ('客服', 1725),\n",
       " ('使用', 1651),\n",
       " ('賣家', 1622),\n",
       " ('購物', 1531),\n",
       " ('真的', 1424),\n",
       " ('顯示', 1141),\n",
       " ('根本', 1130),\n",
       " ('現在', 1116),\n",
       " ('系統', 1080),\n",
       " ('手機', 1067),\n",
       " ('一個', 1052),\n",
       " ('不到', 1035),\n",
       " ('都不', 1015)]"
      ]
     },
     "execution_count": 152,
     "metadata": {},
     "output_type": "execute_result"
    }
   ],
   "source": [
    "df_rank = []\n",
    "for n in range(2, 7):\n",
    "    for key in CF_TF_DF['DF'][n-2].keys():\n",
    "        df_rank.append((key, CF_TF_DF['DF'][n-2][key]))\n",
    "df_rank = sorted(df_rank, key=lambda x: x[1], reverse=True)\n",
    "df_rank[:20]"
   ]
  },
  {
   "cell_type": "markdown",
   "id": "5b0fa414-f52f-451e-b2f3-fb4534978d45",
   "metadata": {},
   "source": [
    "## Clustering"
   ]
  },
  {
   "cell_type": "code",
   "execution_count": 153,
   "id": "81ead4b4-ddf1-4905-960c-2762a536e0c1",
   "metadata": {},
   "outputs": [],
   "source": [
    "M = len(CF_TF_DF['uni_tokens'])\n",
    "N = len(CF_TF_DF['TF'])"
   ]
  },
  {
   "cell_type": "code",
   "execution_count": 154,
   "id": "90fc269a-98f0-462e-b8b9-601eb9f87bef",
   "metadata": {},
   "outputs": [
    {
     "name": "stdout",
     "output_type": "stream",
     "text": [
      "# of tokens : 538\n",
      "# of reviews : 16700\n"
     ]
    }
   ],
   "source": [
    "print('# of tokens :', M)\n",
    "print('# of reviews :', N)"
   ]
  },
  {
   "cell_type": "code",
   "execution_count": 155,
   "id": "c35d7ad4-5fbe-4921-a157-a245e97649e7",
   "metadata": {},
   "outputs": [],
   "source": [
    "doc_list = list(CF_TF_DF['TF'].keys())"
   ]
  },
  {
   "cell_type": "code",
   "execution_count": 156,
   "id": "3205f419-b6e1-41c2-82b1-128d3a4f8e88",
   "metadata": {},
   "outputs": [],
   "source": [
    "TF_table = np.zeros((N, M))\n",
    "for i in range(N):\n",
    "    doc_id = doc_list[i]\n",
    "    for j in range(M):\n",
    "        token = CF_TF_DF['uni_tokens'][j]\n",
    "        if token not in CF_TF_DF['TF'][doc_id].keys():\n",
    "            continue\n",
    "        else:\n",
    "            TF_table[i][j] = CF_TF_DF['TF'][doc_id][token]"
   ]
  },
  {
   "cell_type": "code",
   "execution_count": 157,
   "id": "fe64623e-4491-45da-ac6e-789cafb92507",
   "metadata": {},
   "outputs": [
    {
     "data": {
      "text/plain": [
       "array([[1., 1., 1., ..., 0., 0., 0.],\n",
       "       [0., 0., 0., ..., 0., 0., 0.],\n",
       "       [0., 0., 0., ..., 0., 0., 0.],\n",
       "       ...,\n",
       "       [0., 0., 0., ..., 0., 0., 0.],\n",
       "       [0., 0., 0., ..., 0., 0., 0.],\n",
       "       [0., 0., 0., ..., 0., 0., 0.]])"
      ]
     },
     "execution_count": 157,
     "metadata": {},
     "output_type": "execute_result"
    }
   ],
   "source": [
    "TF_table"
   ]
  },
  {
   "cell_type": "markdown",
   "id": "6a3597fa-b276-4890-b357-6d6a4560804b",
   "metadata": {},
   "source": [
    "## K-means"
   ]
  },
  {
   "cell_type": "markdown",
   "id": "8d193320-ccea-4e79-9df6-bd92b62b9af4",
   "metadata": {},
   "source": [
    "find the best k"
   ]
  },
  {
   "cell_type": "code",
   "execution_count": 158,
   "id": "4980a328-48f7-418a-ab17-27540817d552",
   "metadata": {},
   "outputs": [
    {
     "data": {
      "image/png": "[encoded data removed]",
      "text/plain": [
       "<Figure size 576x396 with 2 Axes>"
      ]
     },
     "metadata": {},
     "output_type": "display_data"
    },
    {
     "data": {
      "text/plain": [
       "<AxesSubplot:title={'center':'Distortion Score Elbow for KMeans Clustering'}, xlabel='k', ylabel='distortion score'>"
      ]
     },
     "execution_count": 158,
     "metadata": {},
     "output_type": "execute_result"
    }
   ],
   "source": [
    "visualizer = KElbowVisualizer(KMeans(random_state=100), k=(2,12)).fit(TF_table)\n",
    "visualizer.show()"
   ]
  },
  {
   "cell_type": "code",
   "execution_count": 159,
   "id": "3948081a-427c-443d-ad4e-848b5c2dcd91",
   "metadata": {},
   "outputs": [
    {
     "name": "stdout",
     "output_type": "stream",
     "text": [
      "Best k: 7\n"
     ]
    }
   ],
   "source": [
    "best_k = visualizer.elbow_value_\n",
    "print(\"Best k:\", best_k)"
   ]
  },
  {
   "cell_type": "code",
   "execution_count": 160,
   "id": "9681f9d3-f4f5-4d0b-9502-4171b4edf6e2",
   "metadata": {},
   "outputs": [],
   "source": [
    "kmeans = KMeans(n_clusters=best_k, random_state=100).fit(TF_table)\n",
    "clusters = kmeans.labels_"
   ]
  },
  {
   "cell_type": "markdown",
   "id": "f3b135f1-9459-488f-aee5-c935e68f2e82",
   "metadata": {},
   "source": [
    "## Cluster Labeling"
   ]
  },
  {
   "cell_type": "code",
   "execution_count": 161,
   "id": "1f1dca1e-380b-496a-bd63-ea8720d22a28",
   "metadata": {},
   "outputs": [],
   "source": [
    "N_dict = {}\n",
    "for w in range(M):\n",
    "    token = CF_TF_DF['uni_tokens'][w]\n",
    "    N_row = []\n",
    "    for c in range(best_k):\n",
    "        temp = [0, 0]\n",
    "        for d in range(N):\n",
    "            if clusters[d] != c:\n",
    "                continue\n",
    "            doc_id = doc_list[d]\n",
    "            if token in CF_TF_DF['TF'][doc_id].keys():\n",
    "                temp[1] += 1 # t = 1\n",
    "            else:\n",
    "                temp[0] += 1 # t = 0\n",
    "        N_row.append(temp)\n",
    "    N_dict[w] = N_row"
   ]
  },
  {
   "cell_type": "code",
   "execution_count": 162,
   "id": "cd69dcda-4ca6-4f21-a37f-f219f4951253",
   "metadata": {},
   "outputs": [],
   "source": [
    "temp, Nc = np.unique(clusters, return_counts=True)"
   ]
  },
  {
   "cell_type": "code",
   "execution_count": 163,
   "id": "ed68b84b-f824-4dd4-8c1f-7d5562b1ee4e",
   "metadata": {},
   "outputs": [],
   "source": [
    "LR_table = []\n",
    "for c in range(best_k):\n",
    "    LR_list = []\n",
    "    for w in range(M):\n",
    "        n_11 = N_dict[w][c][1]\n",
    "        n_10 = Nc[c] - n_11\n",
    "        n_01 = sum(x[1] for x in N_dict[w]) - n_11\n",
    "        n_00 = N - n_11 - n_10 - n_01\n",
    "        p_t = (n_11 + n_01) / N\n",
    "        p_1 = n_11 / (n_11 + n_10)\n",
    "        p_2 = n_01 / (n_01 + n_00)\n",
    "        # optimize the LR computation\n",
    "        LR = 0\n",
    "        if p_1 != 0 and p_2 != 0 and p_1 != 1 and p_2 != 1:\n",
    "            LR = -2 * (n_11 * math.log(p_t / p_1) + n_10 * math.log((1-p_t) / (1-p_1)) + n_01 * math.log(p_t / p_2) + n_00 * math.log((1-p_t) / (1-p_2)))\n",
    "        LR_list.append((CF_TF_DF['uni_tokens'][w], LR))\n",
    "    LR_list = sorted(LR_list, key=lambda x: x[1], reverse=True)\n",
    "    LR_table.append((Nc[c], LR_list[:10]))"
   ]
  },
  {
   "cell_type": "code",
   "execution_count": 164,
   "id": "34bff546-ac93-4e37-8223-c0179b85636d",
   "metadata": {},
   "outputs": [
    {
     "data": {
      "text/plain": [
       "[(11981,\n",
       "  [('客服', 1176.5416693576396),\n",
       "   ('問題', 1170.114638212777),\n",
       "   ('名認證', 770.4403250812827),\n",
       "   ('實名認', 747.7878269966848),\n",
       "   ('名認', 735.7603832000887),\n",
       "   ('實名', 425.0846722071682),\n",
       "   ('的問', 416.52573111979945),\n",
       "   ('賣家', 411.34037813097757),\n",
       "   ('的問題', 410.71731321302735),\n",
       "   ('法更', 398.2450598929654)]),\n",
       " (1,\n",
       "  [('顆星', 0),\n",
       "   ('以為', 0),\n",
       "   ('評價', 0),\n",
       "   ('我是', 0),\n",
       "   ('蝦皮', 0),\n",
       "   ('賣家', 0),\n",
       "   ('買了', 0),\n",
       "   ('電話', 0),\n",
       "   ('這是', 0),\n",
       "   ('大陸', 0)]),\n",
       " (1325,\n",
       "  [('客服', 2924.3330300659577),\n",
       "   ('問題', 2143.6321983823123),\n",
       "   ('的問', 611.7699667737646),\n",
       "   ('的問題', 605.0794705669671),\n",
       "   ('處理', 551.6568491886868),\n",
       "   ('有問題', 536.5839227790659),\n",
       "   ('有問', 534.6046362164185),\n",
       "   ('解決', 501.1832585226812),\n",
       "   ('回覆', 457.9103392118841),\n",
       "   ('反應', 386.79730023960593)]),\n",
       " (317,\n",
       "  [('實名認證', 2864.3397011874727),\n",
       "   ('名認證', 2848.5581239934922),\n",
       "   ('實名認', 2841.062507378142),\n",
       "   ('名認', 2821.179321810976),\n",
       "   ('實名', 2457.958918442986),\n",
       "   ('認證', 2429.6732661006404),\n",
       "   ('海外', 354.9880235116601),\n",
       "   ('街口', 284.84851016393014),\n",
       "   ('能買', 237.4966181673191),\n",
       "   ('街口支付', 199.9187885102679)]),\n",
       " (1,\n",
       "  [('顆星', 0),\n",
       "   ('以為', 0),\n",
       "   ('評價', 0),\n",
       "   ('我是', 0),\n",
       "   ('蝦皮', 0),\n",
       "   ('賣家', 0),\n",
       "   ('買了', 0),\n",
       "   ('電話', 0),\n",
       "   ('這是', 0),\n",
       "   ('大陸', 0)]),\n",
       " (2455,\n",
       "  [('更新後', 2512.123554349462),\n",
       "   ('新後', 2510.3845419035333),\n",
       "   ('更新完', 743.1317535678584),\n",
       "   ('新完', 736.9580341808787),\n",
       "   ('法更新', 630.4943860194095),\n",
       "   ('法更', 564.636608920327),\n",
       "   ('客服', 238.76828660727193),\n",
       "   ('新版', 225.4346858275165),\n",
       "   ('之後', 205.99618182164906),\n",
       "   ('無法', 185.23585979739119)]),\n",
       " (620,\n",
       "  [('賣家', 2466.3606376554644),\n",
       "   ('買家', 1168.1023547322561),\n",
       "   ('蝦皮', 1134.918010696529),\n",
       "   ('的賣', 438.7211678200224),\n",
       "   ('的賣家', 436.30534998800726),\n",
       "   ('家的', 426.13124293105614),\n",
       "   ('賣家的', 354.06516033409315),\n",
       "   ('取消', 325.7109402560741),\n",
       "   ('家不', 296.4324488131425),\n",
       "   ('出貨', 288.96829090678636)])]"
      ]
     },
     "execution_count": 164,
     "metadata": {},
     "output_type": "execute_result"
    }
   ],
   "source": [
    "LR_table"
   ]
  },
  {
   "cell_type": "markdown",
   "id": "1cbaab59-d1fe-46fe-9dde-f8b298f44af4",
   "metadata": {},
   "source": [
    "## Outlier (這邊可以把threshold改成你想要的最小評論數門檻)"
   ]
  },
  {
   "cell_type": "code",
   "execution_count": 217,
   "id": "b99bf285-e4de-4562-8535-2d4d4680836a",
   "metadata": {},
   "outputs": [],
   "source": [
    "threshold = 10"
   ]
  },
  {
   "cell_type": "code",
   "execution_count": 219,
   "id": "3dda9711-641c-4855-9d79-8b56332d8705",
   "metadata": {},
   "outputs": [],
   "source": [
    "outlier_cluster = []\n",
    "for i in range(best_k):\n",
    "    if(Nc[i] < threshold):\n",
    "        outlier_cluster.append(i)"
   ]
  },
  {
   "cell_type": "code",
   "execution_count": 220,
   "id": "1d5e1b21-2c57-4b60-befa-5fe6b1b9926c",
   "metadata": {},
   "outputs": [
    {
     "data": {
      "text/plain": [
       "[3845, 16351]"
      ]
     },
     "execution_count": 220,
     "metadata": {},
     "output_type": "execute_result"
    }
   ],
   "source": [
    "outlier_ids = []\n",
    "for i in range(len(clusters)):\n",
    "    if clusters[i] in outlier_cluster:\n",
    "        outlier_ids.append(i)\n",
    "outlier_ids"
   ]
  },
  {
   "cell_type": "code",
   "execution_count": 221,
   "id": "a85a34fd-a6ea-4865-94a6-2a688f340e45",
   "metadata": {},
   "outputs": [
    {
     "name": "stdout",
     "output_type": "stream",
     "text": [
      "outlier 3845 :\n",
      "很卡很卡很卡很卡很卡很卡很卡很卡很卡很卡很卡很卡很卡很卡很卡很卡很卡很卡很卡很卡很卡很卡很卡很卡很卡很卡很卡很卡很卡很卡很卡很卡很卡很卡很卡很卡很卡很卡很卡很卡很卡很卡很卡很卡很卡很卡很卡很卡很卡很卡很卡很卡很卡很卡很卡很卡很卡很卡很卡很卡很卡很卡很卡很卡很卡很卡很卡很卡很卡很卡很卡很卡很卡很卡很卡很卡很卡很卡很卡很卡很卡很卡很卡很卡很卡很卡很卡很卡很卡很卡很卡很卡很卡很卡很卡很卡很卡很卡很卡很卡很卡很卡很卡很卡很卡很卡很卡很卡很卡很卡很卡很卡很卡很卡很卡很卡很卡很卡很卡很卡很卡很卡很卡很卡很卡很卡很卡很卡很卡很卡很卡很卡很卡很卡很卡很卡很卡很卡很卡很卡很卡很卡很卡很卡很卡很卡很卡很卡很卡很卡很卡很卡很卡很卡很卡很卡很卡很卡很卡很卡很卡很卡很卡很卡很卡很卡很卡很卡很卡很卡很卡很卡很卡很卡很卡很卡很卡很卡很卡很卡很卡很卡很卡很卡很卡很卡很卡很卡很卡很卡很卡很卡很卡很卡很卡很卡很卡很卡很卡很卡很卡很卡很卡很卡很卡很卡很卡很卡很卡很卡很卡很卡很卡很卡很卡很卡很卡很卡很卡很卡很卡很卡很卡很卡很卡很卡很卡很卡很卡很卡很卡很卡很卡很卡很卡很卡很卡很卡很卡很卡很卡很卡很卡很卡很卡很卡很卡很卡很卡很卡\n",
      "outlier 16351 :\n",
      "你們真的會改嗎?  真的嗎？ 真的嗎？ 真的嗎？ 真的嗎？ 真的嗎？ 真的嗎？ 真的嗎？ 真的嗎？ 真的嗎？ 真的嗎？ 真的嗎？ 真的嗎？ 真的嗎？ 真的嗎？ 真的嗎？ 真的嗎？ 真的嗎？ 真的嗎？ 真的嗎？ 真的嗎？ 真的嗎？ 真的嗎？ 真的嗎？ 真的嗎？ 真的嗎？ 真的嗎？ 真的嗎？ 真的嗎？ 真的嗎？ 真的嗎？ 真的嗎？ 真的嗎？ 真的嗎？ 真的嗎？ 真的嗎？ 真的嗎？ 真的嗎？ 真的嗎？ 真的嗎？ 真的嗎？ 真的嗎？ 真的嗎？ 真的嗎？   會改嗎？ 會改嗎？ 會改嗎？ 會改嗎？ 會改嗎？ 會改嗎？ 會改嗎？ 會改嗎？ 會改嗎？ 會改嗎？ 會改嗎？ 會改嗎？ 會改嗎？ 會改嗎？ 會改嗎？ 會改嗎？ 會改嗎？ 會改嗎？ 會改嗎？ 會改嗎？ 會改嗎？ 會改嗎？ 會改嗎？ 會改嗎？ 會改嗎？ 會改嗎？ 會改嗎？ 會改嗎？ 會改嗎？ 會改嗎？\n"
     ]
    }
   ],
   "source": [
    "for i in outlier_ids:\n",
    "    print(\"outlier\", i, \":\")\n",
    "    print(data_set.iloc[doc_list[i]]['content'])"
   ]
  },
  {
   "cell_type": "code",
   "execution_count": null,
   "id": "5383ce89-3ba3-4de6-b4b2-37f9859fa1a9",
   "metadata": {},
   "outputs": [],
   "source": []
  }
 ],
 "metadata": {
  "kernelspec": {
   "display_name": "Python 3 (ipykernel)",
   "language": "python",
   "name": "python3"
  },
  "language_info": {
   "codemirror_mode": {
    "name": "ipython",
    "version": 3
   },
   "file_extension": ".py",
   "mimetype": "text/x-python",
   "name": "python",
   "nbconvert_exporter": "python",
   "pygments_lexer": "ipython3",
   "version": "3.8.10"
  }
 },
 "nbformat": 4,
 "nbformat_minor": 5
}
